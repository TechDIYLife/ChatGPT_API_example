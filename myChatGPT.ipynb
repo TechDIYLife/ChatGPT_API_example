{
  "nbformat": 4,
  "nbformat_minor": 0,
  "metadata": {
    "colab": {
      "provenance": [],
      "authorship_tag": "ABX9TyM1JNqn6a8oX0s3lKnt+JJi",
      "include_colab_link": true
    },
    "kernelspec": {
      "name": "python3",
      "display_name": "Python 3"
    },
    "language_info": {
      "name": "python"
    }
  },
  "cells": [
    {
      "cell_type": "markdown",
      "metadata": {
        "id": "view-in-github",
        "colab_type": "text"
      },
      "source": [
        "<a href=\"https://colab.research.google.com/github/TechDIYLife/ChatGPT_API_example/blob/main/myChatGPT.ipynb\" target=\"_parent\"><img src=\"https://colab.research.google.com/assets/colab-badge.svg\" alt=\"Open In Colab\"/></a>"
      ]
    },
    {
      "cell_type": "code",
      "execution_count": null,
      "metadata": {
        "id": "giyFMJ3CvnG4"
      },
      "outputs": [],
      "source": [
        "!pip install openai"
      ]
    },
    {
      "cell_type": "code",
      "source": [
        "import openai"
      ],
      "metadata": {
        "id": "29-PCjw8xwO5"
      },
      "execution_count": 2,
      "outputs": []
    },
    {
      "cell_type": "code",
      "source": [
        "openai.api_key=\"xxxxxxxxxxxxxxxxxxxxxxxxxxx\""
      ],
      "metadata": {
        "id": "NzjmkduKx0KI"
      },
      "execution_count": 3,
      "outputs": []
    },
    {
      "cell_type": "code",
      "source": [
        "response = openai.ChatCompletion.create(\n",
        "  model=\"gpt-3.5-turbo\",\n",
        "  messages=[\n",
        "    {\"role\":\"user\",\"content\": \"How many workers in OpenAI?\"},\n",
        "  ]\n",
        ")\n",
        "print(response)"
      ],
      "metadata": {
        "id": "WBowbryhyf78"
      },
      "execution_count": null,
      "outputs": []
    },
    {
      "cell_type": "code",
      "source": [
        "class bcolors: # 文本颜色\n",
        "  GREEN = '\\033[92m'\n",
        "  BLUE = '\\033[94m'\n",
        "\n",
        "def print_w(s): #打印文本，内容宽度设置\n",
        "  width = 150\n",
        "  while len(s) > width:\n",
        "    print(f'{s[:width]:<{width}}')\n",
        "    s = s[width:]\n",
        "  print(s)\n",
        "  \n",
        "def chatGPT_api(list_msg,list_ans,message): # API调用函数\n",
        "  # 设置system role\n",
        "  system_role = \"\\u5C06\\u6587\\u672C\\u7FFB\\u8BD1\\u4E3A\\u82F1\\u8BED\"  #@param {type:\"string\",title:\"\"}   \n",
        "  send_msg=[{\"role\":\"system\",\"content\": system_role}]\n",
        "\n",
        "  # 读取历史对话记录\n",
        "  for i in range(len(list_msg)):\n",
        "    _msg={\"role\":\"user\",\"content\": list_msg[i]}\n",
        "    send_msg.append(_msg)\n",
        "    _ans={\"role\":\"assistant\",\"content\": list_ans[i]}\n",
        "    send_msg.append(_ans)\n",
        "\n",
        "  # 准备用户的新消息\n",
        "  _msg={\"role\":\"user\",\"content\": message}\n",
        "  send_msg.append(_msg)\n",
        "\n",
        "  # 调用API，返回结果\n",
        "  response = openai.ChatCompletion.create(\n",
        "    model=\"gpt-3.5-turbo\",\n",
        "    messages=send_msg\n",
        "  )\n",
        "  #返回结果\n",
        "  return response[\"choices\"][0][\"message\"][\"content\"]\n",
        "\n",
        "def main():\n",
        "  # 历史对话记录列表\n",
        "  history_list_msg=[]\n",
        "  history_list_ans=[]\n",
        "  \n",
        "  while(True):\n",
        "    # 等待用户输入\n",
        "    print(f\"👧 {bcolors.GREEN}\", end=\"\")\n",
        "    message = input()\n",
        "\n",
        "    # 调用API，返回结果\n",
        "    answer = chatGPT_api(history_list_msg, history_list_ans, message)\n",
        "    print(f\"⚛️ {bcolors.BLUE}\")\n",
        "    print_w(answer)\n",
        "\n",
        "    history_list_msg.append(message)\n",
        "    history_list_ans.append(answer)\n",
        "\n",
        "if __name__ == \"__main__\":\n",
        "  main()\n",
        "\n"
      ],
      "metadata": {
        "id": "RDrr9pUkzDxG"
      },
      "execution_count": null,
      "outputs": []
    }
  ]
}