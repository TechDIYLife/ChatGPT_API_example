{
  "nbformat": 4,
  "nbformat_minor": 0,
  "metadata": {
    "colab": {
      "provenance": [],
      "authorship_tag": "ABX9TyM1JNqn6a8oX0s3lKnt+JJi",
      "include_colab_link": true
    },
    "kernelspec": {
      "name": "python3",
      "display_name": "Python 3"
    },
    "language_info": {
      "name": "python"
    }
  },
  "cells": [
    {
      "cell_type": "markdown",
      "metadata": {
        "id": "view-in-github",
        "colab_type": "text"
      },
      "source": [
        "<a href=\"https://colab.research.google.com/github/TechDIYLife/ChatGPT_API_example/blob/main/myChatGPT.ipynb\" target=\"_parent\"><img src=\"https://colab.research.google.com/assets/colab-badge.svg\" alt=\"Open In Colab\"/></a>"
      ]
    },
    {
      "cell_type": "code",
      "execution_count": 1,
      "metadata": {
        "colab": {
          "base_uri": "https://localhost:8080/"
        },
        "id": "giyFMJ3CvnG4",
        "outputId": "6266e42f-ad25-4ee1-9fca-628999714e06"
      },
      "outputs": [
        {
          "output_type": "stream",
          "name": "stdout",
          "text": [
            "Looking in indexes: https://pypi.org/simple, https://us-python.pkg.dev/colab-wheels/public/simple/\n",
            "Collecting openai\n",
            "  Downloading openai-0.27.0-py3-none-any.whl (70 kB)\n",
            "\u001b[2K     \u001b[90m━━━━━━━━━━━━━━━━━━━━━━━━━━━━━━━━━━━━━━━━\u001b[0m \u001b[32m70.1/70.1 KB\u001b[0m \u001b[31m2.3 MB/s\u001b[0m eta \u001b[36m0:00:00\u001b[0m\n",
            "\u001b[?25hRequirement already satisfied: requests>=2.20 in /usr/local/lib/python3.8/dist-packages (from openai) (2.25.1)\n",
            "Requirement already satisfied: tqdm in /usr/local/lib/python3.8/dist-packages (from openai) (4.64.1)\n",
            "Requirement already satisfied: aiohttp in /usr/local/lib/python3.8/dist-packages (from openai) (3.8.4)\n",
            "Requirement already satisfied: chardet<5,>=3.0.2 in /usr/local/lib/python3.8/dist-packages (from requests>=2.20->openai) (4.0.0)\n",
            "Requirement already satisfied: urllib3<1.27,>=1.21.1 in /usr/local/lib/python3.8/dist-packages (from requests>=2.20->openai) (1.26.14)\n",
            "Requirement already satisfied: idna<3,>=2.5 in /usr/local/lib/python3.8/dist-packages (from requests>=2.20->openai) (2.10)\n",
            "Requirement already satisfied: certifi>=2017.4.17 in /usr/local/lib/python3.8/dist-packages (from requests>=2.20->openai) (2022.12.7)\n",
            "Requirement already satisfied: multidict<7.0,>=4.5 in /usr/local/lib/python3.8/dist-packages (from aiohttp->openai) (6.0.4)\n",
            "Requirement already satisfied: yarl<2.0,>=1.0 in /usr/local/lib/python3.8/dist-packages (from aiohttp->openai) (1.8.2)\n",
            "Requirement already satisfied: frozenlist>=1.1.1 in /usr/local/lib/python3.8/dist-packages (from aiohttp->openai) (1.3.3)\n",
            "Requirement already satisfied: aiosignal>=1.1.2 in /usr/local/lib/python3.8/dist-packages (from aiohttp->openai) (1.3.1)\n",
            "Requirement already satisfied: charset-normalizer<4.0,>=2.0 in /usr/local/lib/python3.8/dist-packages (from aiohttp->openai) (3.0.1)\n",
            "Requirement already satisfied: async-timeout<5.0,>=4.0.0a3 in /usr/local/lib/python3.8/dist-packages (from aiohttp->openai) (4.0.2)\n",
            "Requirement already satisfied: attrs>=17.3.0 in /usr/local/lib/python3.8/dist-packages (from aiohttp->openai) (22.2.0)\n",
            "Installing collected packages: openai\n",
            "Successfully installed openai-0.27.0\n"
          ]
        }
      ],
      "source": [
        "!pip install openai"
      ]
    },
    {
      "cell_type": "code",
      "source": [
        "import openai"
      ],
      "metadata": {
        "id": "29-PCjw8xwO5"
      },
      "execution_count": 2,
      "outputs": []
    },
    {
      "cell_type": "code",
      "source": [
        "openai.api_key=\"xxxxxxxxxxxxxxxxxxxxxxxxxxx\""
      ],
      "metadata": {
        "id": "NzjmkduKx0KI"
      },
      "execution_count": 3,
      "outputs": []
    },
    {
      "cell_type": "code",
      "source": [
        "response = openai.ChatCompletion.create(\n",
        "  model=\"gpt-3.5-turbo\",\n",
        "  messages=[\n",
        "    {\"role\":\"user\",\"content\": \"How many workers in OpenAI?\"},\n",
        "  ]\n",
        ")\n",
        "print(response)"
      ],
      "metadata": {
        "colab": {
          "base_uri": "https://localhost:8080/"
        },
        "id": "WBowbryhyf78",
        "outputId": "e0717952-97d1-487b-a270-3acf5a2ac6fb"
      },
      "execution_count": 4,
      "outputs": [
        {
          "output_type": "stream",
          "name": "stdout",
          "text": [
            "{\n",
            "  \"choices\": [\n",
            "    {\n",
            "      \"finish_reason\": \"stop\",\n",
            "      \"index\": 0,\n",
            "      \"message\": {\n",
            "        \"content\": \"\\n\\nAs an AI language model, I do not have access to real-time information about OpenAI's current workforce. As per their website, they have over 100 employees across various locations globally. However, the number may have changed since the last update.\",\n",
            "        \"role\": \"assistant\"\n",
            "      }\n",
            "    }\n",
            "  ],\n",
            "  \"created\": 1677902630,\n",
            "  \"id\": \"chatcmpl-6qDPaR3nrZEbMHXnTXGclpbFkBXlH\",\n",
            "  \"model\": \"gpt-3.5-turbo-0301\",\n",
            "  \"object\": \"chat.completion\",\n",
            "  \"usage\": {\n",
            "    \"completion_tokens\": 52,\n",
            "    \"prompt_tokens\": 14,\n",
            "    \"total_tokens\": 66\n",
            "  }\n",
            "}\n"
          ]
        }
      ]
    },
    {
      "cell_type": "code",
      "source": [
        "class bcolors: # 文本颜色\n",
        "  GREEN = '\\033[92m'\n",
        "  BLUE = '\\033[94m'\n",
        "\n",
        "def print_w(s): #打印文本，内容宽度设置\n",
        "  width = 150\n",
        "  while len(s) > width:\n",
        "    print(f'{s[:width]:<{width}}')\n",
        "    s = s[width:]\n",
        "  print(s)\n",
        "  \n",
        "def chatGPT_api(list_msg,list_ans,message): # API调用函数\n",
        "  # 设置system role\n",
        "  system_role = \"\\u5C06\\u6587\\u672C\\u7FFB\\u8BD1\\u4E3A\\u82F1\\u8BED\"  #@param {type:\"string\",title:\"\"}   \n",
        "  send_msg=[{\"role\":\"system\",\"content\": system_role}]\n",
        "\n",
        "  # 读取历史对话记录\n",
        "  for i in range(len(list_msg)):\n",
        "    _msg={\"role\":\"user\",\"content\": list_msg[i]}\n",
        "    send_msg.append(_msg)\n",
        "    _ans={\"role\":\"assistant\",\"content\": list_ans[i]}\n",
        "    send_msg.append(_ans)\n",
        "\n",
        "  # 准备用户的新消息\n",
        "  _msg={\"role\":\"user\",\"content\": message}\n",
        "  send_msg.append(_msg)\n",
        "\n",
        "  # 调用API，返回结果\n",
        "  response = openai.ChatCompletion.create(\n",
        "    model=\"gpt-3.5-turbo\",\n",
        "    messages=send_msg\n",
        "  )\n",
        "  #返回结果\n",
        "  return response[\"choices\"][0][\"message\"][\"content\"]\n",
        "\n",
        "def main():\n",
        "  # 历史对话记录列表\n",
        "  history_list_msg=[]\n",
        "  history_list_ans=[]\n",
        "  \n",
        "  while(True):\n",
        "    # 等待用户输入\n",
        "    print(f\"👧 {bcolors.GREEN}\", end=\"\")\n",
        "    message = input()\n",
        "\n",
        "    # 调用API，返回结果\n",
        "    answer = chatGPT_api(history_list_msg, history_list_ans, message)\n",
        "    print(f\"⚛️ {bcolors.BLUE}\")\n",
        "    print_w(answer)\n",
        "\n",
        "    history_list_msg.append(message)\n",
        "    history_list_ans.append(answer)\n",
        "\n",
        "if __name__ == \"__main__\":\n",
        "  main()\n",
        "\n"
      ],
      "metadata": {
        "id": "RDrr9pUkzDxG"
      },
      "execution_count": null,
      "outputs": []
    }
  ]
}